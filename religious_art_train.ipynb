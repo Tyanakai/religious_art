{
  "nbformat": 4,
  "nbformat_minor": 0,
  "metadata": {
    "accelerator": "TPU",
    "colab": {
      "name": "religious_art_train.ipynb",
      "provenance": [],
      "collapsed_sections": [
        "sT7Co96sN8O8",
        "o12l_VDROF97",
        "qYBzgFz45C74",
        "bfdhPhilhnWI",
        "k7eOw7O1cBo2",
        "RGNBJTlrAC3i",
        "XO1BhVwY-8BC",
        "b04KlTeoW0Ya",
        "OOMirTaVWqPb",
        "t2ChjApGWvSx",
        "ENtOyP15ma62"
      ],
      "toc_visible": true,
      "mount_file_id": "1G1LGYoCdXjzmbtcZZoLq76HUAyTaRjJC",
      "authorship_tag": "ABX9TyOgfzY+I4pBE9QVQUTozFbj",
      "include_colab_link": true
    },
    "kernelspec": {
      "display_name": "Python 3",
      "name": "python3"
    }
  },
  "cells": [
    {
      "cell_type": "markdown",
      "metadata": {
        "id": "view-in-github",
        "colab_type": "text"
      },
      "source": [
        "<a href=\"https://colab.research.google.com/github/Tyanakai/religious_art/blob/main/religious_art_train.ipynb\" target=\"_parent\"><img src=\"https://colab.research.google.com/assets/colab-badge.svg\" alt=\"Open In Colab\"/></a>"
      ]
    },
    {
      "cell_type": "markdown",
      "metadata": {
        "id": "hfkOYiO8BSnD"
      },
      "source": [
        "<h1>宗教画テーマの分類　訓練</h1>\n",
        "\n",
        "\n"
      ]
    },
    {
      "cell_type": "markdown",
      "metadata": {
        "id": "sT7Co96sN8O8"
      },
      "source": [
        "# 1.はじめに\n",
        "本ノートブックの目的は、ProbSpace上で開催された[宗教画テーマの分類](https://comp.probspace.com/competitions/religious_art)のタスクに基づいて、<br>\n",
        "公開されている事前学習されたモデルを訓練し、保存することです。<br>\n",
        "使用するモデルは以下の通りです。\n",
        "\n",
        "*   [EfficientNet-B4, EfficientNet-B7](https://github.com/qubvel/efficientnet)\n",
        "*   [EfficientNetV2-S](https://github.com/google/automl/tree/master/efficientnetv2)\n",
        "\n",
        "尚、colabratory上で、ランタイムのタイプをTPUに設定した状態での実行を想定しています。"
      ]
    },
    {
      "cell_type": "markdown",
      "metadata": {
        "id": "o12l_VDROF97"
      },
      "source": [
        "# 2.事前に完了していること\n",
        "*    [religious_art_eda.ipynb](https://github.com/Tyanakai/religious_art/blob/main/religious_art_eda.ipynb)の実行\n",
        "*    上で保存した画像をGoogle Cloud Storageにアップロード\n",
        "\n",
        "<br>\n",
        "今回の訓練では、Google Cloud Storageに保存した画像(jpg形式)を使用して訓練します。<br>\n",
        "事前にreligious_art_eda.ipynbを実行し、保存した(train_image, test_image)フォルダをGoogle Cloud Storageにアップロードしておきます。"
      ]
    },
    {
      "cell_type": "markdown",
      "metadata": {
        "id": "itSzpJd4VTae"
      },
      "source": [
        "# 3.環境準備\n",
        "訓練環境を構築します。"
      ]
    },
    {
      "cell_type": "markdown",
      "metadata": {
        "id": "qYBzgFz45C74"
      },
      "source": [
        "## 3.1ライブラリ"
      ]
    },
    {
      "cell_type": "code",
      "metadata": {
        "id": "QtL3wc8jey2G",
        "colab": {
          "base_uri": "https://localhost:8080/"
        },
        "outputId": "764aa23c-21f5-46ea-a649-8c4b7311209b"
      },
      "source": [
        "!pip install -q tensorflow-addons\n",
        "!pip install -q efficientnet\n",
        "\n",
        "import datetime\n",
        "import json\n",
        "import os\n",
        "import sys\n",
        "\n",
        "import efficientnet.tfkeras as efn\n",
        "import numpy as np\n",
        "import pandas as pd\n",
        "from sklearn.model_selection import StratifiedKFold\n",
        "import tensorflow as tf\n",
        "import tensorflow.keras.backend as K\n",
        "import tensorflow_addons as tfa\n",
        "import tensorflow_hub as hub"
      ],
      "execution_count": null,
      "outputs": [
        {
          "output_type": "stream",
          "name": "stdout",
          "text": [
            "\u001b[K     |████████████████████████████████| 1.1 MB 5.4 MB/s \n",
            "\u001b[K     |████████████████████████████████| 50 kB 2.6 MB/s \n",
            "\u001b[?25h"
          ]
        }
      ]
    },
    {
      "cell_type": "markdown",
      "metadata": {
        "id": "bfdhPhilhnWI"
      },
      "source": [
        "## 3.2 Google Drive"
      ]
    },
    {
      "cell_type": "code",
      "metadata": {
        "id": "hdZQavLchsKz"
      },
      "source": [
        "# from google.colab import drive\n",
        "# drive.mount('/content/drive')"
      ],
      "execution_count": null,
      "outputs": []
    },
    {
      "cell_type": "markdown",
      "metadata": {
        "id": "k7eOw7O1cBo2"
      },
      "source": [
        "## 3.3 Google Cloud Storage\n",
        "Google Cloud Storageとの接続の為に、ユーザー認証します。"
      ]
    },
    {
      "cell_type": "code",
      "metadata": {
        "id": "H9oXMr7TcJoW"
      },
      "source": [
        "from google.colab import auth\n",
        "auth.authenticate_user()"
      ],
      "execution_count": null,
      "outputs": []
    },
    {
      "cell_type": "markdown",
      "metadata": {
        "id": "RGNBJTlrAC3i"
      },
      "source": [
        "## 3.4 TPU\n",
        "TPU使用の為の設定を行います。今回はcloud上のデータに対しTPUを使用します。"
      ]
    },
    {
      "cell_type": "code",
      "metadata": {
        "id": "e-G3QJuwezry",
        "colab": {
          "base_uri": "https://localhost:8080/"
        },
        "outputId": "2403e8cd-80c9-41e8-b0fb-852722b74838"
      },
      "source": [
        "project_id = 'Google Cloudのproject id'\n",
        "!gcloud config set project {project_id}\n",
        "!gsutil ls\n",
        "\n",
        "try:\n",
        "    tpu_grpc_url = \"grpc://\" + os.environ[\"COLAB_TPU_ADDR\"]\n",
        "    TPU = tf.distribute.cluster_resolver.TPUClusterResolver(tpu_grpc_url)\n",
        "except:\n",
        "    TPU = None\n",
        "    print('INFO: Not connected to a TPU runtime')\n",
        "\n",
        "AUTOTUNE = tf.data.experimental.AUTOTUNE"
      ],
      "execution_count": null,
      "outputs": [
        {
          "output_type": "stream",
          "name": "stdout",
          "text": [
            "Updated property [core/project].\n",
            "gs://colab_test2/\n"
          ]
        }
      ]
    },
    {
      "cell_type": "markdown",
      "metadata": {
        "id": "nzl51Yd69RQY"
      },
      "source": [
        "## 3.5 ハイパーパラメータ設定\n",
        "\n",
        "主なパラメーターの説明は下記の通りです。\n",
        "\n",
        "|パラメータ名|説明|\n",
        "|:-|:-|\n",
        "|model|使用する事前学習されたモデル名|\n",
        "|weights|事前学習のタイプ efnの場合'noisy-student', efn-v2の場合'imagenet21k-ft1k'|\n",
        "|-|-|\n",
        "|original_size|画像の原寸。正方形の一辺の長さ|\n",
        "|image_size|tf.data.Dataset形式に変換する際の画像サイズ|\n",
        "|patience|EarlyStoppingのパラメータ。訓練早期終了を延期するepoch数|\n",
        "|stop_monitor|arlyStoppingのパラメータ。訓練早期終了を判定する指標|\n",
        "|best_monitor|ModelCheckpointのパラメータ。保存するmodelの選定指標|\n",
        "|-|-|\n",
        "|num_ops|random augmentを行う際、一度の拡張で適用する手法の数| \n",
        "|magnitude|random augmentを行う際、適用する拡張手法の度合|\n",
        "|-|-|\n",
        "|lr_base|学習率の初期値|\n",
        "|lr_max|学習率の最大値|\n",
        "|lr_min|学習率の最小値|\n",
        "|begining|訓練初期段階で、学習率をlr_baseからlr_maxまで引き上げるまでのepoch数|\n",
        "|ending|学習率がlr_baseに再降下するepoch数|\n",
        "|-|-|\n",
        "|pseudo|準備した擬似ラベルを訓練に使用するか|\n",
        "|exclusive|重複画像を除いたデータを訓練に使用するか|\n",
        "|copy|個数の少ないクラスの訓練データを複製するか|\n",
        "|copy_classes|複製対象とするクラス|\n",
        "|copy_rate|複製の割合。dup_rate=0:対象データを全て複製、dup_rate=1:複製しない|"
      ]
    },
    {
      "cell_type": "code",
      "metadata": {
        "id": "jF1mWlKa9QQh"
      },
      "source": [
        "class Config:\n",
        "    model = \"efn_b7\"  #@param [\"efn_b4\",\"efn_b7\",\"efficientnetv2-s\"]\n",
        "    weights = 'noisy-student' #@param ['noisy-student','imagenet21k-ft1k']\n",
        "    base_batch_size = 2 #@param {type:\"raw\"} [1,2,4,8,16]\n",
        "    batch_size = base_batch_size * 8\n",
        "    epochs = 100 #@param {type:\"raw\"}\n",
        "    n_folds = 5\n",
        "    seed = 21 #@param\n",
        "\n",
        "    original_size = 224\n",
        "    # v2-s:384, v2-m:480\n",
        "    image_size = 600    #@param {type:\"raw\"} [224,240,260,300,380,456,528,600,384,480]\n",
        "    n_classes = 13\n",
        "    patience =  20 #@param\n",
        "    stop_monitor= \"val_loss\" #@param [\"val_loss\", \"val_accuracy\"]\n",
        "    best_monitor = \"val_accuracy\" #@param [\"val_loss\", \"val_accuracy\"]\n",
        "\n",
        "    num_ops = 10 #@param {type:\"slider\", min:0, max:15, step:1}\n",
        "    magnitude = 5 #@param {type:\"slider\", min:0, max:10, step:1}\n",
        "\n",
        "    lr_base = 1e-5\n",
        "    lr_max = 7 * 1e-4\n",
        "    lr_min = 1e-10\n",
        "    begining = 10\n",
        "    ending = 70\n",
        "\n",
        "    pseudo = False #@param {\"type\":\"boolean\"}\n",
        "    pseudo_file = \"pseudo_soft.csv\" #@param\n",
        "    exclusive = True #@param {\"type\":\"boolean\"}\n",
        "    copy = True #@param {\"type\":\"boolean\"}\n",
        "    copy_classes = [7, 8, 10, 12] #@param\n",
        "    copy_rate = 0.7\n",
        "\n",
        "    debug = True #@param {\"type\":\"boolean\"}\n",
        "\n",
        "if Config.debug:\n",
        "    Config.epochs = 2\n",
        "    Config.n_folds = 2\n",
        "\n"
      ],
      "execution_count": null,
      "outputs": []
    },
    {
      "cell_type": "markdown",
      "metadata": {
        "id": "u4jiyD6L9_Aj"
      },
      "source": [
        "## 3.6 path\n",
        "pathを設定しfolderを作成します。"
      ]
    },
    {
      "cell_type": "code",
      "metadata": {
        "id": "EAbhAXnG9-w0"
      },
      "source": [
        "DRIVE = \"/content/drive/MyDrive/portforio/religious_art\"\n",
        "GS = \"gs://colab_test2/\" # Google Cloud Storage \n",
        "\n",
        "INPUT = os.path.join(DRIVE, \"input\")\n",
        "OUTPUT = os.path.join(DRIVE, \"output\")\n",
        "MODEL = os.path.join(DRIVE, \"model\", f\"{Config.model}-{Config.image_size}\")\n",
        "RECORD = os.path.join(DRIVE, \"model\", \"record\")\n",
        "SUBMIT = os.path.join(DRIVE, \"submit\")\n",
        "PROB = os.path.join(DRIVE, \"prob\") # 予測確率値(probability)を保存するフォルダ\n",
        "\n",
        "GS_TRAIN = os.path.join(GS, \"train_image\")\n",
        "GS_TEST = os.path.join(GS, \"test_image\")\n",
        "\n",
        "DRIVE_TRAIN = os.path.join(INPUT, \"train_image\")\n",
        "\n",
        "for folder in [INPUT, OUTPUT, MODEL, RECORD, SUBMIT, PROB]:\n",
        "    os.makedirs(folder, exist_ok=True)\n",
        "\n",
        "# efficientnet-v2のdownload元\n",
        "weights_dic = {\"imagenet21k-ft1k\":\"21k-ft1k\",\"imagenet21k\":\"21k\"}\n",
        "hub_url = ('gs://cloud-tpu-checkpoints/efficientnet/v2/hub'\n",
        "           f'/{Config.model}-{weights_dic.get(Config.weights,None)}/feature-vector')"
      ],
      "execution_count": null,
      "outputs": []
    },
    {
      "cell_type": "markdown",
      "metadata": {
        "id": "XO1BhVwY-8BC"
      },
      "source": [
        "# 4.データ準備\n",
        "データを処理し、tf.data.Datasetとして取得するための関数やクラスを定義します。"
      ]
    },
    {
      "cell_type": "markdown",
      "metadata": {
        "id": "b04KlTeoW0Ya"
      },
      "source": [
        "## 4.1 取得"
      ]
    },
    {
      "cell_type": "code",
      "metadata": {
        "id": "Q3ogPLWYg48h"
      },
      "source": [
        "def get_train_data():\n",
        "    \"\"\"\n",
        "    訓練データのfilepathのリストと訓練ラベルを取得する。\n",
        "    \"\"\"\n",
        "    labels = np.load(\n",
        "        os.path.join(INPUT, \"christ-train-labels.npz\"))[\"arr_0\"]\n",
        "    labels = pd.get_dummies(labels).values.astype(np.float32)\n",
        "    labels = smooth_label(labels)\n",
        "\n",
        "    file_idx = np.arange(labels.shape[0])\n",
        "    if Config.exclusive:\n",
        "        file_idx = make_exclusive(file_idx)\n",
        "\n",
        "    filepaths = np.array(\n",
        "        [GS_TRAIN + f\"/train_img{i:0>3d}.jpg\" for i in file_idx])\n",
        "          \n",
        "    return filepaths, labels[file_idx]\n",
        "\n",
        "\n",
        "def get_test_data():\n",
        "    test_imgs = np.load(\n",
        "        os.path.join(INPUT, \"christ-test-imgs.npz\"))[\"arr_0\"]\n",
        "    file_idx = np.arange(test_imgs.shape[0])\n",
        "    filepaths = np.array(\n",
        "        [GS_TEST + f\"/test_img{i:0>3d}.jpg\" for i in file_idx])\n",
        "    \n",
        "    return filepaths\n",
        "\n",
        "\n",
        "def concat_pseudo(filepaths, labels):\n",
        "    \"\"\"\n",
        "    擬似ラベルを取得、連結し、ファイルパスを上書きする。\n",
        "    \"\"\"\n",
        "    pseudo_file = pd.read_csv(os.path.join(OUTPUT, Config.pseudo_file), \n",
        "                              index_col=0)\n",
        "    pseudo_idx = pseudo_file.index.value\n",
        "    if Config.exclusive:\n",
        "        pseudo_idx = make_exclusive(pseudo_idx)\n",
        "\n",
        "    labels = np.concatenate([labels, pseudo_file.values], axis=0).astype(np.float32)\n",
        "\n",
        "    pse_filepaths = np.array(\n",
        "        [GS_TEST + f\"/test_img{i:0>3d}.jpg\" for i in pseudo_idx])\n",
        "    filepaths = np.concat([filepaths, pse_filepaths], axis=0)\n",
        "    \n",
        "    return filepaths, labels"
      ],
      "execution_count": null,
      "outputs": []
    },
    {
      "cell_type": "markdown",
      "metadata": {
        "id": "OOMirTaVWqPb"
      },
      "source": [
        "## 4.2 加工"
      ]
    },
    {
      "cell_type": "code",
      "metadata": {
        "id": "PsRPBUSjUAeV"
      },
      "source": [
        "def smooth_label(label, factor=0.1):\n",
        "    \"\"\"\n",
        "    label smoothingを適用する。\n",
        "    \"\"\"\n",
        "    labels = np.array((1 - factor) * label + (factor / label.shape[1]))\n",
        "    return labels.astype(np.float32)"
      ],
      "execution_count": null,
      "outputs": []
    },
    {
      "cell_type": "code",
      "metadata": {
        "id": "40_4L_hJwqUC"
      },
      "source": [
        "def make_exclusive(index_list):\n",
        "    \"\"\"\n",
        "    index_listからdup_idxにあるindexを取り除く\n",
        "    \"\"\"\n",
        "    dup_idx = np.load(os.path.join(OUTPUT, \"dup_idx.npy\"))\n",
        "    exclusive_idx_set = set(idx for idx in index_list) - set(dup_idx)\n",
        "    return np.array(list(exclusive_idx_set))"
      ],
      "execution_count": null,
      "outputs": []
    },
    {
      "cell_type": "code",
      "metadata": {
        "id": "T_4cAY7GT4Kf"
      },
      "source": [
        "def copy_few_data(ids, labels):\n",
        "    \"\"\"\n",
        "    個数の少ないクラスのindexを確率的に複製する。\n",
        "    \"\"\"\n",
        "    class_labels = np.argmax(labels, axis=1)\n",
        "    copy_ids = []\n",
        "    for idx in ids:\n",
        "        rn = np.random.uniform()       \n",
        "        if class_labels[idx] in Config.copy_classes and rn > Config.copy_rate:\n",
        "            copy_ids += [idx, idx]\n",
        "        else:\n",
        "            copy_ids.append(idx)\n",
        "    return np.array(copy_ids)"
      ],
      "execution_count": null,
      "outputs": []
    },
    {
      "cell_type": "code",
      "metadata": {
        "id": "0bPhSwghdPSP"
      },
      "source": [
        " def skf(x_train, y_train, n_folds=Config.n_folds, random_state=Config.seed):\n",
        "     \"\"\"\n",
        "     訓練データを層化K分割し、リスト化したindexを取得する。\n",
        "     \"\"\"\n",
        "     kf = StratifiedKFold(n_splits=n_folds, shuffle=True, random_state=random_state)\n",
        "     return list(kf.split(x_train, y_train))"
      ],
      "execution_count": null,
      "outputs": []
    },
    {
      "cell_type": "markdown",
      "metadata": {
        "id": "t2ChjApGWvSx"
      },
      "source": [
        "## 4.3 tf.data.Dataset"
      ]
    },
    {
      "cell_type": "code",
      "metadata": {
        "id": "RFCqPdJNOKGy"
      },
      "source": [
        "class ImageProcessor():\n",
        "    \"\"\"\n",
        "    file pathを受け取り、画像を取得、拡張、tf.data.Dataset形式で出力\n",
        "\n",
        "    Parameters\n",
        "    --------------\n",
        "        num_ops : int\n",
        "            random augmentを行う際、適用する拡張手法の数\n",
        "        magnitude : int\n",
        "            random augmentを行う際、適用する拡張手法の度合\n",
        "        image_size : int\n",
        "            datasetの出力画像サイズ(＝訓練モデルの入力画像サイズ)\n",
        "    \"\"\"\n",
        "\n",
        "    def __init__(self, num_ops, magnitude, image_size=Config.image_size):\n",
        "        self.num_ops = num_ops\n",
        "        self.magnitude = magnitude\n",
        "        self.image_size = image_size\n",
        "\n",
        "    def load_image(self, path, label=None):\n",
        "        \"\"\"\n",
        "        file pathを受け取り、float32型のtensorを返す。\n",
        "        \"\"\"\n",
        "        image = tf.io.read_file(path)\n",
        "        image = tf.image.decode_jpeg(image, channels=3)\n",
        "        image = tf.cast(image, tf.float32)\n",
        "        return image, label\n",
        "\n",
        "    def mix_up(self, ds1, ds2, alpha=0.2):\n",
        "        \"\"\"\n",
        "        拡張法：2枚の画像とそのラベルをランダムな割合で合成する。\n",
        "        \"\"\"\n",
        "        lam = tf.random.uniform(shape=[], maxval=0.11, dtype=tf.float32)\n",
        "        image = tf.add(tf.multiply(ds1[0], (1 - lam)), tf.multiply(ds2[0], lam))\n",
        "        label = tf.add(tf.multiply(ds1[1], (1 - lam)), tf.multiply(ds2[1], lam))\n",
        "        return image, label\n",
        "\n",
        "    def random_rotate(self, image, label=None):\n",
        "        \"\"\"\n",
        "        拡張法：ランダムな角度(度数法)で画像を回転する。\n",
        "        \"\"\"\n",
        "        level = np.pi * self.magnitude / 180 # 度数法を孤度法へ変換\n",
        "\n",
        "        angle = tf.random.uniform(\n",
        "            shape=[],minval=-level, maxval=level, dtype=tf.float32)\n",
        "        image = tfa.image.rotate(\n",
        "            image, angle, \n",
        "            fill_mode=\"nearest\"\n",
        "            )\n",
        "        return image, label\n",
        "\n",
        "    def random_cutout(self, image, label=None):\n",
        "        \"\"\"\n",
        "        拡張法：画像のランダムな一部をに黒塗りにする。\n",
        "        黒塗りは正方形となり、一辺の長さが偶数でなくてはならない。\n",
        "        \"\"\"\n",
        "        mask = int(7 + 3 * self.magnitude) * 2\n",
        "        image = tf.reshape(image, [1, Config.original_size, Config.original_size, 3])\n",
        "        image = tfa.image.random_cutout(image, (mask, mask))\n",
        "        return image[0], label\n",
        "\n",
        "    def random_brightness(self, image, label=None):\n",
        "        \"\"\"\n",
        "        拡張法：輝度をランダムに変化させる。\n",
        "        \"\"\"\n",
        "        bright_delta = 0.05 * self.magnitude\n",
        "        image = tf.image.random_brightness(image, bright_delta)\n",
        "        return image, label\n",
        "\n",
        "    def random_contrast(self, image, label=None):\n",
        "        \"\"\"\n",
        "        拡張法：コントラストをランダムに変化させる。\n",
        "        \"\"\"\n",
        "        lower = 0.8 - 0.06 * self.magnitude\n",
        "        upper = 1.1 + 0.09 * self.magnitude\n",
        "        image = tf.image.random_contrast(image, lower=lower, upper=upper)\n",
        "        return image, label\n",
        "    \n",
        "    def random_saturation(self, image, label=None):\n",
        "        \"\"\"\n",
        "        拡張法：彩度をランダムに変化させる。\n",
        "        \"\"\"\n",
        "        lower = 0.8 - 0.079 * self.magnitude\n",
        "        upper = 1.1 + 0.09 * self.magnitude\n",
        "        image = tf.image.random_saturation(image, lower=lower, upper=upper)\n",
        "        return image, label\n",
        "    \n",
        "    def random_hue(self, image, label=None):\n",
        "        \"\"\"\n",
        "        拡張法：色相をランダムに変化させる。\n",
        "        \"\"\"\n",
        "        hue_delta = 0.01 + 0.005 * self.magnitude #0819 0.004->0.005\n",
        "        image = tf.image.random_hue(image, hue_delta)\n",
        "        return image, label\n",
        "       \n",
        "    def random_flip(self, image, label=None):\n",
        "        \"\"\"\n",
        "        拡張法：ランダムな割合で左右を反転する。\n",
        "        \"\"\"\n",
        "        image = tf.image.random_flip_left_right(image)\n",
        "        return image, label\n",
        "\n",
        "    def random_zoom(self, image, label=None):\n",
        "        \"\"\"\n",
        "        拡張法：ランダムな焦点にズームする。\n",
        "        \"\"\"\n",
        "        zoom_rate = 0.05 + 0.035 * self.magnitude\n",
        "        crop_size = tf.random.uniform(\n",
        "            shape=[], \n",
        "            minval=int(Config.original_size*(1. - zoom_rate)), \n",
        "            maxval=Config.original_size, \n",
        "            dtype=tf.int32)\n",
        "        image = tf.image.random_crop(image, size=[crop_size, crop_size, 3])\n",
        "        image = tf.image.resize(image, size=[Config.original_size, Config.original_size])\n",
        "        return image, label\n",
        "\n",
        "    def random_sharpness(self, image, label=None):\n",
        "        \"\"\"\n",
        "        拡張法：輪郭の強調感をランダムに変化させる。\n",
        "        \"\"\"\n",
        "        factor = 0.01 + 0.089 * self.magnitude # 0819 0.009->0.089\n",
        "        factor = tf.random.uniform([], minval=0, maxval=factor)\n",
        "        image = tfa.image.sharpness(image, factor)\n",
        "        return image, label\n",
        "\n",
        "    def random_shear_x(self, image, label=None):\n",
        "        \"\"\"\n",
        "        拡張法：ランダムに水平せん断写像を行う。\n",
        "        \"\"\"\n",
        "        level = 0.02 + 0.015 * self.magnitude # 0819 0.018->0.015\n",
        "        level = tf.random.uniform([], minval=-level, maxval=level)\n",
        "        image = tfa.image.shear_x(image, level, [128,128,128])\n",
        "        return image, label\n",
        "\n",
        "    def random_shear_y(self, image, label=None):\n",
        "        \"\"\"\n",
        "        拡張法：ランダムに鉛直せん断写像を行う。\n",
        "        \"\"\"\n",
        "        level = 0.02 + 0.015 * self.magnitude # 0819 0.018->0.015\n",
        "        level = tf.random.uniform([], minval=-level, maxval=level)\n",
        "        image = tfa.image.shear_y(image, level, [128,128,128])\n",
        "        return image, label\n",
        "\n",
        "    def random_solarize_add(self, image, label=None):\n",
        "        \"\"\"\n",
        "        拡張法：ランダムな露出効果を付加する。\n",
        "        \"\"\"\n",
        "        addition = np.round(1 + 0.9 * self.magnitude)\n",
        "        threshold = 1 + 3.1 * self.magnitude\n",
        "        addition = tf.random.uniform([], minval=-addition, maxval=addition+1, dtype=tf.int64)\n",
        "        threshold = tf.random.uniform([], minval=0, maxval=threshold)\n",
        "        # tf.print(\"addition:\", addition)\n",
        "        # tf.print(\"threshold:\", threshold)\n",
        "        added_image = tf.add(tf.cast(image, tf.int64), addition)\n",
        "        added_image = tf.cast(tf.clip_by_value(added_image, 0, 255), tf.float32)\n",
        "        image = tf.where(image < threshold, added_image, image)\n",
        "        return image, label\n",
        "\n",
        "    def random_posterize(self, image, label=None):\n",
        "        \"\"\"\n",
        "        拡張法：ランダムに色数を削減する。\n",
        "        \"\"\"\n",
        "        shift = np.round(0.6 * self.magnitude)\n",
        "        shift = tf.random.uniform([], minval=0, maxval=shift+1, dtype=tf.int32)\n",
        "        # tf.print(\"shift:\", shift)\n",
        "        image = tf.cast(image, tf.int32)\n",
        "        image =  tf.bitwise.left_shift(tf.bitwise.right_shift(image, shift), shift)\n",
        "        image = tf.cast(image, tf.float32)\n",
        "        return image, label\n",
        "\n",
        "    def identity(self, image, label=None):\n",
        "        \"\"\"\n",
        "        恒等関数\n",
        "        \"\"\"\n",
        "        return image, label\n",
        "\n",
        "    def resize_divide_image(self, image, label=None):\n",
        "        \"\"\"\n",
        "        モデルの入力形式に画像を調整する。\n",
        "        \"\"\"\n",
        "        image = tf.image.resize(image, size=[self.image_size, self.image_size])\n",
        "        image = tf.math.divide(image, 255)\n",
        "        return image, label\n",
        "        \n",
        "    def augment_fns(self, ops, image, label=None):\n",
        "        \"\"\"\n",
        "        上で定義した拡張法を数字で呼び出し、画像に施す。\n",
        "\n",
        "        Parameters\n",
        "        ------------\n",
        "            ops : int\n",
        "                呼び出す拡張法を指定する。\n",
        "        \"\"\"\n",
        "        branch_fns = {\n",
        "            0: lambda: self.random_zoom(image, label),\n",
        "            1: lambda: self.random_shear_x(image, label),\n",
        "            2: lambda: self.random_shear_y(image, label),\n",
        "            3: lambda: self.random_brightness(image, label),\n",
        "            4: lambda: self.random_contrast(image, label),\n",
        "            5: lambda: self.random_saturation(image, label),\n",
        "            6: lambda: self.random_hue(image, label),\n",
        "            7: lambda: self.random_sharpness(image, label),\n",
        "            8: lambda: self.random_flip(image, label),\n",
        "            9: lambda: self.random_solarize_add(image, label),\n",
        "            10: lambda: self.random_posterize(image, label),\n",
        "            11: lambda: self.random_cutout(image, label),\n",
        "            12: lambda: self.random_rotate(image, label)\n",
        "        }\n",
        "        image, label = tf.switch_case(\n",
        "            ops, \n",
        "            branch_fns=branch_fns, \n",
        "            default=lambda: self.identity(image, label))\n",
        "        return image, label\n",
        "\n",
        "    def random_augment(self, image, label):\n",
        "        \"\"\"\n",
        "        拡張法をself.num_ops回ランダムに呼び出し、画像に施す。\n",
        "        \"\"\"\n",
        "        available_ops = [\"zoom\",\"shear_x\",\"shear_y\",\"flip\",\n",
        "                        \"brightness\",\"contrast\",\"saturation\",\"hue\",\"sharpness\",\n",
        "                        \"solarize_add\",\"posterize\",\"cutout\",\"rotate\"]\n",
        "        ops = tf.random.uniform(\n",
        "            [self.num_ops], maxval=len(available_ops), dtype=tf.int32)\n",
        "        # tf.print(\"ops :\", ops)\n",
        "        for op in ops:\n",
        "            image, label = self.augment_fns(op, image, label)\n",
        "\n",
        "        return image, label\n",
        "\n",
        "    def tr_dataset(self, file_path, label, batch_size=Config.batch_size, mix=True):\n",
        "        \"\"\"\n",
        "        全ての拡張法を一度ずつ適用する。\n",
        "        \"\"\"\n",
        "        num_files = file_path.shape[0]\n",
        "        tr_ds = tf.data.Dataset.from_tensor_slices((file_path, label))\n",
        "        tr_ds = tr_ds.map(self.load_image, num_parallel_calls=AUTOTUNE)\n",
        "        # tr_ds = tr_ds.repeat()\n",
        "\n",
        "        if mix:\n",
        "            another_ds =tr_ds.shuffle(num_files)\n",
        "            zip_ds = tf.data.Dataset.zip((tr_ds, another_ds))\n",
        "            tr_ds = zip_ds.map(self.mix_up, num_parallel_calls=AUTOTUNE)\n",
        "\n",
        "        tr_ds = tr_ds.shuffle(num_files)\n",
        "        tr_ds = tr_ds.map(self.random_flip, num_parallel_calls=AUTOTUNE)\n",
        "        tr_ds = tr_ds.map(self.random_shear_x, num_parallel_calls=AUTOTUNE)\n",
        "        tr_ds = tr_ds.map(self.random_shear_y, num_parallel_calls=AUTOTUNE)\n",
        "        tr_ds = tr_ds.map(self.random_zoom, num_parallel_calls=AUTOTUNE) \n",
        "        tr_ds = tr_ds.map(self.random_brightness, num_parallel_calls=AUTOTUNE)\n",
        "        tr_ds = tr_ds.map(self.random_contrast, num_parallel_calls=AUTOTUNE)\n",
        "        tr_ds = tr_ds.map(self.random_saturation, num_parallel_calls=AUTOTUNE)\n",
        "        tr_ds = tr_ds.map(self.random_hue, num_parallel_calls=AUTOTUNE)\n",
        "        tr_ds = tr_ds.map(self.random_sharpness, num_parallel_calls=AUTOTUNE)   \n",
        "        tr_ds = tr_ds.map(self.random_solarize_add, num_parallel_calls=AUTOTUNE)\n",
        "        tr_ds = tr_ds.map(self.random_posterize, num_parallel_calls=AUTOTUNE) \n",
        "        tr_ds = tr_ds.map(self.random_cutout, num_parallel_calls=AUTOTUNE)\n",
        "        tr_ds = tr_ds.map(self.random_rotate, num_parallel_calls=AUTOTUNE)\n",
        "        tr_ds = tr_ds.batch(batch_size)\n",
        "        tr_ds = tr_ds.map(self.resize_divide_image, num_parallel_calls=AUTOTUNE)\n",
        "        tr_ds = tr_ds.prefetch(buffer_size=AUTOTUNE)\n",
        "        return tr_ds\n",
        "\n",
        "    def val_dataset(self, file_path, label=None, batch_size=Config.batch_size):\n",
        "        \"\"\"\n",
        "        validation用dataset\n",
        "        \"\"\"\n",
        "        val_ds = tf.data.Dataset.from_tensor_slices((file_path, label))\n",
        "        val_ds = val_ds.map(self.load_image, num_parallel_calls=AUTOTUNE)\n",
        "        val_ds = val_ds.repeat()\n",
        "        val_ds = val_ds.batch(batch_size)\n",
        "        val_ds = val_ds.map(self.resize_divide_image, num_parallel_calls=AUTOTUNE)\n",
        "        val_ds = val_ds.prefetch(buffer_size=AUTOTUNE)\n",
        "        return val_ds\n",
        "\n",
        "    def test_dataset(self, file_path, label=None, batch_size=Config.batch_size):\n",
        "        \"\"\"\n",
        "        test用dataset\n",
        "        \"\"\"\n",
        "        te_ds = tf.data.Dataset.from_tensor_slices((file_path, label))\n",
        "        te_ds = te_ds.map(self.load_image, num_parallel_calls=AUTOTUNE)\n",
        "        te_ds = te_ds.batch(batch_size)\n",
        "        te_ds = te_ds.map(self.resize_divide_image, num_parallel_calls=AUTOTUNE)\n",
        "        te_ds = te_ds.prefetch(buffer_size=AUTOTUNE)\n",
        "        return te_ds\n",
        "\n",
        "    def rand_aug_dataset(self, file_path, label, batch_size=Config.batch_size, mix=True):\n",
        "        \"\"\"\n",
        "        random augmentを適用して、dataset化\n",
        "        \"\"\"\n",
        "        num_files = file_path.shape[0]\n",
        "        tr_ds = tf.data.Dataset.from_tensor_slices((file_path, label))\n",
        "        tr_ds = tr_ds.map(self.load_image, num_parallel_calls=AUTOTUNE)\n",
        "        tr_ds = tr_ds.repeat()\n",
        "\n",
        "        if mix:\n",
        "            another_ds =tr_ds.shuffle(num_files)\n",
        "            zip_ds = tf.data.Dataset.zip((tr_ds, another_ds))\n",
        "            tr_ds = zip_ds.map(self.mix_up, num_parallel_calls=AUTOTUNE)\n",
        "\n",
        "        tr_ds.shuffle(num_files)\n",
        "        tr_ds = tr_ds.map(self.random_augment, num_parallel_calls=AUTOTUNE)\n",
        "        tr_ds = tr_ds.batch(batch_size)\n",
        "        tr_ds = tr_ds.map(self.resize_divide_image, num_parallel_calls=AUTOTUNE)\n",
        "        tr_ds = tr_ds.prefetch(buffer_size=AUTOTUNE)\n",
        "        return tr_ds"
      ],
      "execution_count": null,
      "outputs": []
    },
    {
      "cell_type": "markdown",
      "metadata": {
        "id": "PkGp11rB_BGE"
      },
      "source": [
        "# 5.訓練準備\n",
        "訓練を補助する為の関数を定義します。\n"
      ]
    },
    {
      "cell_type": "markdown",
      "metadata": {
        "id": "8SWhCHhKUnV1"
      },
      "source": [
        "## 5.1 損失関数、最適化アルゴリズム\n",
        "損失関数として、focal lossを使用します。<br>\n",
        "また、epoch数によって学習率を出力する関数を定義します。"
      ]
    },
    {
      "cell_type": "code",
      "metadata": {
        "id": "rFKL1L_KI-LU"
      },
      "source": [
        "def categorical_focal_loss(alpha, gamma=2.):\n",
        "    \"\"\"\n",
        "    focal loss関数\n",
        "    \"\"\"\n",
        "    alpha = np.array(alpha, dtype=np.float32)\n",
        "\n",
        "    def _categorical_focal_loss(y_true, y_pred):\n",
        "        epsilon = K.epsilon()\n",
        "        y_pred = K.clip(y_pred, epsilon, 1. - epsilon)\n",
        "        cross_entropy = -y_true * K.log(y_pred)\n",
        "        loss = alpha * K.pow(1 - y_pred, gamma) * cross_entropy\n",
        "\n",
        "        return K.mean(K.sum(loss, axis=-1))\n",
        "\n",
        "    return _categorical_focal_loss"
      ],
      "execution_count": null,
      "outputs": []
    },
    {
      "cell_type": "code",
      "metadata": {
        "id": "4V32psHLxenz",
        "colab": {
          "base_uri": "https://localhost:8080/",
          "height": 279
        },
        "outputId": "2c351df5-e337-4691-88de-6c52ab5f5596"
      },
      "source": [
        "def lr_schedule(epoch):\n",
        "    \"\"\"\n",
        "    学習率cosineアニーリング\n",
        "    \"\"\"\n",
        "\n",
        "    if epoch <= Config.begining:\n",
        "        return Config.lr_base + epoch * (Config.lr_max - Config.lr_base) / Config.begining        \n",
        "    elif (epoch > Config.begining) and (epoch <= Config.ending):\n",
        "        value = np.cos(np.pi * (epoch - Config.begining) / (Config.ending - Config.begining)) + 1\n",
        "        return value * (Config.lr_max - Config.lr_base) / 2 + Config.lr_base\n",
        "    else:\n",
        "        return (epoch - Config.epochs) * (Config.lr_min - Config.lr_base) / (Config.epochs - Config.ending)\n",
        "\n",
        "def lr_graph():\n",
        "    \"\"\"\n",
        "    学習率のグラフを表示\n",
        "    \"\"\"\n",
        "    from matplotlib import pyplot as plt\n",
        "\n",
        "    epoch_point = [i for i in range(100)]\n",
        "    lr_point = [lr_schedule(i) for i in range(100)]\n",
        "    plt.plot(epoch_point, lr_point)\n",
        "    plt.xlabel(\"epoch\")\n",
        "    plt.ylabel(\"learning rate\")\n",
        "\n",
        "lr_graph()"
      ],
      "execution_count": null,
      "outputs": [
        {
          "output_type": "display_data",
          "data": {
            "image/png": "[encoded data removed]",
            "text/plain": [
              "<Figure size 432x288 with 1 Axes>"
            ]
          },
          "metadata": {
            "needs_background": "light"
          }
        }
      ]
    },
    {
      "cell_type": "markdown",
      "metadata": {
        "id": "SpaqsL4S_D_z"
      },
      "source": [
        "## 5.2 model準備\n",
        "訓練するmodelを構築する関数を定義します。"
      ]
    },
    {
      "cell_type": "code",
      "metadata": {
        "id": "mcnldhvHc54M"
      },
      "source": [
        "def get_pretrained_model():\n",
        "    \"\"\"\n",
        "    使用する事前学習されたmodelを取得する。\n",
        "    \"\"\"\n",
        "    if Config.model==\"efn_b4\":\n",
        "        pretrained_model = efn.EfficientNetB4(\n",
        "            weights=Config.weights, \n",
        "            include_top=False)\n",
        "        \n",
        "    elif Config.model==\"efn_b7\":\n",
        "        pretrained_model = efn.EfficientNetB7(\n",
        "            weights=Config.weights, \n",
        "            include_top=False)\n",
        "    \n",
        "    elif \"v2\" in Config.model:\n",
        "        pretrained_model = hub.KerasLayer(hub_url)\n",
        "\n",
        "    pretrained_model.trainable = True\n",
        "\n",
        "    return pretrained_model\n",
        "\n",
        "\n",
        "def build_model():\n",
        "    \"\"\"\n",
        "    modelの全体構造を定義する。\n",
        "    \"\"\"\n",
        "    pretrained_model = get_pretrained_model()\n",
        "    \n",
        "    input = tf.keras.layers.Input(shape=(Config.image_size, Config.image_size, 3))\n",
        "    x = pretrained_model(input)\n",
        "    if \"v2\" not in Config.model:\n",
        "        x = tf.keras.layers.GlobalAveragePooling2D()(x)\n",
        "    elif \"v2\" in Config.model:\n",
        "        x = tf.keras.layers.Dropout(rate=0.2)(x)\n",
        "    pred = tf.keras.layers.Dense(Config.n_classes, activation='softmax')(x)\n",
        "\n",
        "    model = tf.keras.models.Model(inputs=input, outputs=pred)\n",
        "    model.compile(optimizer=tf.keras.optimizers.Adam(), \n",
        "                  loss=categorical_focal_loss(alpha=1), \n",
        "                  metrics=['accuracy'])\n",
        "    \n",
        "    return model"
      ],
      "execution_count": null,
      "outputs": []
    },
    {
      "cell_type": "code",
      "metadata": {
        "id": "1X2fLk4nJa-Q"
      },
      "source": [
        "def get_model():\n",
        "    \"\"\"\n",
        "    modelを実行環境下で取得する。\n",
        "    \"\"\"\n",
        "    if TPU:\n",
        "        tf.config.experimental_connect_to_cluster(TPU)\n",
        "        tf.tpu.experimental.initialize_tpu_system(TPU)\n",
        "        tpu_strategy = tf.distribute.TPUStrategy(TPU)\n",
        "        with tpu_strategy.scope():\n",
        "            model = build_model()\n",
        "    else:\n",
        "        model = build_model()\n",
        "\n",
        "    return model"
      ],
      "execution_count": null,
      "outputs": []
    },
    {
      "cell_type": "markdown",
      "metadata": {
        "id": "0-wQbiVPRwFc"
      },
      "source": [
        "## 5.3 訓練関数\n",
        "訓練の手順を定義します。"
      ]
    },
    {
      "cell_type": "code",
      "metadata": {
        "id": "RIJJZ4q7Oyl4"
      },
      "source": [
        "def train_cv():\n",
        "    \"\"\"\n",
        "    交差検証関数(訓練)\n",
        "    \"\"\"\n",
        "    # 訓練状況を記録するdictionary\n",
        "    try:\n",
        "        # 訓練途中であれば引継ぐ\n",
        "        with open(os.path.join(MODEL, \"status.json\"), mode=\"r\") as f:\n",
        "            status = json.load(f)       \n",
        "    except:\n",
        "        # 新規作成\n",
        "        time_jp = datetime.datetime.now() + datetime.timedelta(hours=9)\n",
        "        time_jp = time_jp.strftime(\"%m%d%H%M\")\n",
        "        status = {\"fold\": [],\n",
        "                  \"seed\": Config.seed,\n",
        "                  \"time_jp\": time_jp,\n",
        "                  \"model_path\" : [],\n",
        "                  \"model_name\" : Config.model,\n",
        "                  \"image_size\" : Config.image_size,\n",
        "                  \"val_accuracy\": [],\n",
        "                  \"val_loss\": []}\n",
        "    \n",
        "    # 訓練ファイルのpathとラベルを取得\n",
        "    filepaths, labels = get_train_data()\n",
        "\n",
        "    # 交差検証\n",
        "    for i_fold, (tr_idx, val_idx) in enumerate(skf(filepaths, np.argmax(labels, axis=1))):\n",
        "        K.clear_session()\n",
        "        \n",
        "        print(f\"\\n##### FOLD {i_fold+1} #####\\n\")\n",
        "        model_name = f\"model{status['time_jp']}_fold{i_fold+1}\"\n",
        "        model_path = os.path.join(MODEL, f\"{model_name}.h5\")\n",
        "\n",
        "        # 保存したモデルがある場合訓練をスキップ\n",
        "        if os.path.exists(model_path):\n",
        "            continue\n",
        "\n",
        "\n",
        "        # 少ないラベルのデータ複製\n",
        "        if Config.copy:\n",
        "            tr_idx = copy_few_data(tr_idx, labels)\n",
        "\n",
        "        tr_filepaths, tr_labels = filepaths[tr_idx], labels[tr_idx]\n",
        "        val_filepaths, val_labels = filepaths[val_idx], labels[val_idx]\n",
        "        \n",
        "        # 訓練データに擬似ラベルデータを加える\n",
        "        if Config.pseudo:\n",
        "            tr_filepaths, tr_labels = concat_pseudo(tr_filepaths, tr_labels)\n",
        "\n",
        "        # callbacks\n",
        "        checkpoint_cb = tf.keras.callbacks.ModelCheckpoint(\n",
        "            filepath=model_path, \n",
        "            monitor=Config.best_monitor, \n",
        "            verbose=1, \n",
        "            save_best_only=True, \n",
        "            save_weights_only=True\n",
        "            )\n",
        "        stop_cb = tf.keras.callbacks.EarlyStopping(\n",
        "            monitor=Config.stop_monitor, \n",
        "            patience=Config.patience, \n",
        "            verbose=1, \n",
        "            mode='auto'\n",
        "            )\n",
        "        lr_cb = tf.keras.callbacks.LearningRateScheduler(\n",
        "            lr_schedule, \n",
        "            verbose=True\n",
        "            )\n",
        "\n",
        "        # tf.data.Dataset準備\n",
        "        image_processor = ImageProcessor(Config.num_ops, \n",
        "                                         Config.magnitude, \n",
        "                                         Config.image_size)\n",
        "        tr_ds = image_processor.rand_aug_dataset(tr_filepaths, \n",
        "                                                 tr_labels)\n",
        "        val_ds = image_processor.val_dataset(val_filepaths, \n",
        "                                             val_labels) \n",
        "\n",
        "        # 訓練実行\n",
        "        model = get_model()\n",
        "        history = model.fit(\n",
        "            tr_ds,\n",
        "            validation_data=val_ds,\n",
        "            steps_per_epoch=len(tr_idx)//Config.batch_size,\n",
        "            validation_steps=len(val_idx)//Config.batch_size,\n",
        "            epochs=Config.epochs,\n",
        "            verbose=1,\n",
        "            callbacks=[stop_cb, lr_cb, checkpoint_cb]\n",
        "            )\n",
        "        \n",
        "        # fold毎の記録\n",
        "        history_df = pd.DataFrame(history.history)\n",
        "        history_df.to_csv(os.path.join(MODEL, f\"history-{model_name}.csv\"), \n",
        "                          index=False)\n",
        "\n",
        "        status[\"val_accuracy\"].append(max(history.history['val_accuracy']))\n",
        "        status[\"val_loss\"].append(min(history.history['val_loss']))\n",
        "        status[\"fold\"].append(i_fold)\n",
        "        status[\"model_path\"].append(model_path)\n",
        "\n",
        "        print(f\"\\n{status}\\n\")\n",
        "        with open(os.path.join(MODEL, \"status.json\"), mode=\"w\") as f:\n",
        "            json.dump(status, f)\n",
        "\n",
        "    return status"
      ],
      "execution_count": null,
      "outputs": []
    },
    {
      "cell_type": "markdown",
      "metadata": {
        "id": "nPAbv1_oU1fs"
      },
      "source": [
        "## 5.4 記録\n",
        "学習結果を記録し、json形式で保存します。"
      ]
    },
    {
      "cell_type": "code",
      "metadata": {
        "id": "pGYNPyEH9YGd"
      },
      "source": [
        "def record_total_result(status):\n",
        "    \"\"\"\n",
        "    訓練全体の結果とハイパーパラメータとモデルの構造を記録する。\n",
        "    \"\"\"\n",
        "    val_acc_list = status[\"val_accuracy\"]\n",
        "    val_loss_list = status[\"val_loss\"]\n",
        "    time_jp = status[\"time_jp\"]\n",
        "    model_path = status[\"model_path\"]\n",
        "  \n",
        "    # 訓練が完了した場合、dictionaryを個別化して保存\n",
        "    with open(os.path.join(RECORD, f\"record{time_jp}.json\"), mode=\"w\") as f:\n",
        "        json.dump(status, f)\n",
        "\n",
        "    # notebookのコードを呼び出す\n",
        "    with open(os.path.join(DRIVE, \"religious_art_train.ipynb\"), \"r\") as f:\n",
        "        code = f.read()\n",
        "\n",
        "    # ハイパーパラメータとモデル構造のセルを抽出し記録\n",
        "    code_text = \"\"\n",
        "    for i in [14, 31]:\n",
        "        code_text += \"\".join(json.loads(code)[\"cells\"][i][\"source\"])+\"\\n\\n\\n\"\n",
        "\n",
        "    with open(os.path.join(MODEL, f\"model{time_jp}conf_result.txt\"), \"w\") as f:\n",
        "        f.write(\n",
        "            f\"{model_path}\\n\"\n",
        "            f\"seed : {Config.seed}\\n\"\n",
        "            f\"val acc: {val_acc_list},\\n mean: {np.mean(val_acc_list)}\\n\"\n",
        "            f\"val loss: {val_loss_list},\\n mean: {np.mean(val_loss_list)}\\n\"\n",
        "            f\"CODE: \\n{code_text}\"\n",
        "            )"
      ],
      "execution_count": null,
      "outputs": []
    },
    {
      "cell_type": "markdown",
      "metadata": {
        "id": "ENtOyP15ma62"
      },
      "source": [
        "# 6.実行"
      ]
    },
    {
      "cell_type": "code",
      "metadata": {
        "id": "KM-jbmAyJuIT"
      },
      "source": [
        "def main():\n",
        "    status = train_cv()\n",
        "    record_total_result(status)"
      ],
      "execution_count": null,
      "outputs": []
    },
    {
      "cell_type": "code",
      "metadata": {
        "id": "dK0CwIH8bve0",
        "colab": {
          "base_uri": "https://localhost:8080/"
        },
        "outputId": "c28b0f23-beae-48de-a523-40268aa44e8d"
      },
      "source": [
        "main()"
      ],
      "execution_count": null,
      "outputs": [
        {
          "output_type": "stream",
          "name": "stdout",
          "text": [
            "\n",
            "##### FOLD 1 #####\n",
            "\n",
            "INFO:tensorflow:Deallocate tpu buffers before initializing tpu system.\n"
          ]
        },
        {
          "output_type": "stream",
          "name": "stderr",
          "text": [
            "INFO:tensorflow:Deallocate tpu buffers before initializing tpu system.\n"
          ]
        },
        {
          "output_type": "stream",
          "name": "stdout",
          "text": [
            "INFO:tensorflow:Initializing the TPU system: grpc://10.124.17.242:8470\n"
          ]
        },
        {
          "output_type": "stream",
          "name": "stderr",
          "text": [
            "INFO:tensorflow:Initializing the TPU system: grpc://10.124.17.242:8470\n"
          ]
        },
        {
          "output_type": "stream",
          "name": "stdout",
          "text": [
            "INFO:tensorflow:Finished initializing TPU system.\n"
          ]
        },
        {
          "output_type": "stream",
          "name": "stderr",
          "text": [
            "INFO:tensorflow:Finished initializing TPU system.\n"
          ]
        },
        {
          "output_type": "stream",
          "name": "stdout",
          "text": [
            "INFO:tensorflow:Found TPU system:\n"
          ]
        },
        {
          "output_type": "stream",
          "name": "stderr",
          "text": [
            "INFO:tensorflow:Found TPU system:\n"
          ]
        },
        {
          "output_type": "stream",
          "name": "stdout",
          "text": [
            "INFO:tensorflow:*** Num TPU Cores: 8\n"
          ]
        },
        {
          "output_type": "stream",
          "name": "stderr",
          "text": [
            "INFO:tensorflow:*** Num TPU Cores: 8\n"
          ]
        },
        {
          "output_type": "stream",
          "name": "stdout",
          "text": [
            "INFO:tensorflow:*** Num TPU Workers: 1\n"
          ]
        },
        {
          "output_type": "stream",
          "name": "stderr",
          "text": [
            "INFO:tensorflow:*** Num TPU Workers: 1\n"
          ]
        },
        {
          "output_type": "stream",
          "name": "stdout",
          "text": [
            "INFO:tensorflow:*** Num TPU Cores Per Worker: 8\n"
          ]
        },
        {
          "output_type": "stream",
          "name": "stderr",
          "text": [
            "INFO:tensorflow:*** Num TPU Cores Per Worker: 8\n"
          ]
        },
        {
          "output_type": "stream",
          "name": "stdout",
          "text": [
            "INFO:tensorflow:*** Available Device: _DeviceAttributes(/job:localhost/replica:0/task:0/device:CPU:0, CPU, 0, 0)\n"
          ]
        },
        {
          "output_type": "stream",
          "name": "stderr",
          "text": [
            "INFO:tensorflow:*** Available Device: _DeviceAttributes(/job:localhost/replica:0/task:0/device:CPU:0, CPU, 0, 0)\n"
          ]
        },
        {
          "output_type": "stream",
          "name": "stdout",
          "text": [
            "INFO:tensorflow:*** Available Device: _DeviceAttributes(/job:worker/replica:0/task:0/device:CPU:0, CPU, 0, 0)\n"
          ]
        },
        {
          "output_type": "stream",
          "name": "stderr",
          "text": [
            "INFO:tensorflow:*** Available Device: _DeviceAttributes(/job:worker/replica:0/task:0/device:CPU:0, CPU, 0, 0)\n"
          ]
        },
        {
          "output_type": "stream",
          "name": "stdout",
          "text": [
            "INFO:tensorflow:*** Available Device: _DeviceAttributes(/job:worker/replica:0/task:0/device:TPU:0, TPU, 0, 0)\n"
          ]
        },
        {
          "output_type": "stream",
          "name": "stderr",
          "text": [
            "INFO:tensorflow:*** Available Device: _DeviceAttributes(/job:worker/replica:0/task:0/device:TPU:0, TPU, 0, 0)\n"
          ]
        },
        {
          "output_type": "stream",
          "name": "stdout",
          "text": [
            "INFO:tensorflow:*** Available Device: _DeviceAttributes(/job:worker/replica:0/task:0/device:TPU:1, TPU, 0, 0)\n"
          ]
        },
        {
          "output_type": "stream",
          "name": "stderr",
          "text": [
            "INFO:tensorflow:*** Available Device: _DeviceAttributes(/job:worker/replica:0/task:0/device:TPU:1, TPU, 0, 0)\n"
          ]
        },
        {
          "output_type": "stream",
          "name": "stdout",
          "text": [
            "INFO:tensorflow:*** Available Device: _DeviceAttributes(/job:worker/replica:0/task:0/device:TPU:2, TPU, 0, 0)\n"
          ]
        },
        {
          "output_type": "stream",
          "name": "stderr",
          "text": [
            "INFO:tensorflow:*** Available Device: _DeviceAttributes(/job:worker/replica:0/task:0/device:TPU:2, TPU, 0, 0)\n"
          ]
        },
        {
          "output_type": "stream",
          "name": "stdout",
          "text": [
            "INFO:tensorflow:*** Available Device: _DeviceAttributes(/job:worker/replica:0/task:0/device:TPU:3, TPU, 0, 0)\n"
          ]
        },
        {
          "output_type": "stream",
          "name": "stderr",
          "text": [
            "INFO:tensorflow:*** Available Device: _DeviceAttributes(/job:worker/replica:0/task:0/device:TPU:3, TPU, 0, 0)\n"
          ]
        },
        {
          "output_type": "stream",
          "name": "stdout",
          "text": [
            "INFO:tensorflow:*** Available Device: _DeviceAttributes(/job:worker/replica:0/task:0/device:TPU:4, TPU, 0, 0)\n"
          ]
        },
        {
          "output_type": "stream",
          "name": "stderr",
          "text": [
            "INFO:tensorflow:*** Available Device: _DeviceAttributes(/job:worker/replica:0/task:0/device:TPU:4, TPU, 0, 0)\n"
          ]
        },
        {
          "output_type": "stream",
          "name": "stdout",
          "text": [
            "INFO:tensorflow:*** Available Device: _DeviceAttributes(/job:worker/replica:0/task:0/device:TPU:5, TPU, 0, 0)\n"
          ]
        },
        {
          "output_type": "stream",
          "name": "stderr",
          "text": [
            "INFO:tensorflow:*** Available Device: _DeviceAttributes(/job:worker/replica:0/task:0/device:TPU:5, TPU, 0, 0)\n"
          ]
        },
        {
          "output_type": "stream",
          "name": "stdout",
          "text": [
            "INFO:tensorflow:*** Available Device: _DeviceAttributes(/job:worker/replica:0/task:0/device:TPU:6, TPU, 0, 0)\n"
          ]
        },
        {
          "output_type": "stream",
          "name": "stderr",
          "text": [
            "INFO:tensorflow:*** Available Device: _DeviceAttributes(/job:worker/replica:0/task:0/device:TPU:6, TPU, 0, 0)\n"
          ]
        },
        {
          "output_type": "stream",
          "name": "stdout",
          "text": [
            "INFO:tensorflow:*** Available Device: _DeviceAttributes(/job:worker/replica:0/task:0/device:TPU:7, TPU, 0, 0)\n"
          ]
        },
        {
          "output_type": "stream",
          "name": "stderr",
          "text": [
            "INFO:tensorflow:*** Available Device: _DeviceAttributes(/job:worker/replica:0/task:0/device:TPU:7, TPU, 0, 0)\n"
          ]
        },
        {
          "output_type": "stream",
          "name": "stdout",
          "text": [
            "INFO:tensorflow:*** Available Device: _DeviceAttributes(/job:worker/replica:0/task:0/device:TPU_SYSTEM:0, TPU_SYSTEM, 0, 0)\n"
          ]
        },
        {
          "output_type": "stream",
          "name": "stderr",
          "text": [
            "INFO:tensorflow:*** Available Device: _DeviceAttributes(/job:worker/replica:0/task:0/device:TPU_SYSTEM:0, TPU_SYSTEM, 0, 0)\n"
          ]
        },
        {
          "output_type": "stream",
          "name": "stdout",
          "text": [
            "INFO:tensorflow:*** Available Device: _DeviceAttributes(/job:worker/replica:0/task:0/device:XLA_CPU:0, XLA_CPU, 0, 0)\n"
          ]
        },
        {
          "output_type": "stream",
          "name": "stderr",
          "text": [
            "INFO:tensorflow:*** Available Device: _DeviceAttributes(/job:worker/replica:0/task:0/device:XLA_CPU:0, XLA_CPU, 0, 0)\n"
          ]
        },
        {
          "output_type": "stream",
          "name": "stdout",
          "text": [
            "Downloading data from https://github.com/qubvel/efficientnet/releases/download/v0.0.1/efficientnet-b7_noisy-student_notop.h5\n",
            "258072576/258068648 [==============================] - 2s 0us/step\n",
            "258080768/258068648 [==============================] - 2s 0us/step\n",
            "\n",
            "Epoch 00001: LearningRateScheduler setting learning rate to 1e-05.\n",
            "Epoch 1/2\n",
            "WARNING:tensorflow:From /usr/local/lib/python3.7/dist-packages/keras/engine/training.py:2970: StrategyBase.unwrap (from tensorflow.python.distribute.distribute_lib) is deprecated and will be removed in a future version.\n",
            "Instructions for updating:\n",
            "use `experimental_local_results` instead.\n"
          ]
        },
        {
          "output_type": "stream",
          "name": "stderr",
          "text": [
            "WARNING:tensorflow:From /usr/local/lib/python3.7/dist-packages/keras/engine/training.py:2970: StrategyBase.unwrap (from tensorflow.python.distribute.distribute_lib) is deprecated and will be removed in a future version.\n",
            "Instructions for updating:\n",
            "use `experimental_local_results` instead.\n"
          ]
        },
        {
          "output_type": "stream",
          "name": "stdout",
          "text": [
            "20/20 [==============================] - ETA: 0s - loss: 2.1921 - accuracy: 0.0969\n",
            "Epoch 00001: val_accuracy improved from -inf to 0.07187, saving model to /content/drive/MyDrive/portforio/religious_art/model/efn_b7-600/model11141537_fold1.h5\n",
            "20/20 [==============================] - 282s 3s/step - loss: 2.1921 - accuracy: 0.0969 - val_loss: 2.2098 - val_accuracy: 0.0719 - lr: 1.0000e-05\n",
            "\n",
            "Epoch 00002: LearningRateScheduler setting learning rate to 7.9e-05.\n",
            "Epoch 2/2\n",
            "20/20 [==============================] - ETA: 0s - loss: 2.1452 - accuracy: 0.1406\n",
            "Epoch 00002: val_accuracy improved from 0.07187 to 0.09063, saving model to /content/drive/MyDrive/portforio/religious_art/model/efn_b7-600/model11141537_fold1.h5\n",
            "20/20 [==============================] - 24s 1s/step - loss: 2.1452 - accuracy: 0.1406 - val_loss: 2.2131 - val_accuracy: 0.0906 - lr: 7.9000e-05\n",
            "\n",
            "{'fold': [0], 'seed': 21, 'time_jp': '11141537', 'model_path': ['/content/drive/MyDrive/portforio/religious_art/model/efn_b7-600/model11141537_fold1.h5'], 'val_accuracy': [0.09062500298023224], 'val_loss': [2.2098100185394287]}\n",
            "\n",
            "\n",
            "##### FOLD 2 #####\n",
            "\n",
            "INFO:tensorflow:Deallocate tpu buffers before initializing tpu system.\n"
          ]
        },
        {
          "output_type": "stream",
          "name": "stderr",
          "text": [
            "INFO:tensorflow:Deallocate tpu buffers before initializing tpu system.\n"
          ]
        },
        {
          "output_type": "stream",
          "name": "stdout",
          "text": [
            "WARNING:tensorflow:TPU system grpc://10.124.17.242:8470 has already been initialized. Reinitializing the TPU can cause previously created variables on TPU to be lost.\n"
          ]
        },
        {
          "output_type": "stream",
          "name": "stderr",
          "text": [
            "WARNING:tensorflow:TPU system grpc://10.124.17.242:8470 has already been initialized. Reinitializing the TPU can cause previously created variables on TPU to be lost.\n"
          ]
        },
        {
          "output_type": "stream",
          "name": "stdout",
          "text": [
            "INFO:tensorflow:Initializing the TPU system: grpc://10.124.17.242:8470\n"
          ]
        },
        {
          "output_type": "stream",
          "name": "stderr",
          "text": [
            "INFO:tensorflow:Initializing the TPU system: grpc://10.124.17.242:8470\n"
          ]
        },
        {
          "output_type": "stream",
          "name": "stdout",
          "text": [
            "INFO:tensorflow:Finished initializing TPU system.\n"
          ]
        },
        {
          "output_type": "stream",
          "name": "stderr",
          "text": [
            "INFO:tensorflow:Finished initializing TPU system.\n"
          ]
        },
        {
          "output_type": "stream",
          "name": "stdout",
          "text": [
            "INFO:tensorflow:Found TPU system:\n"
          ]
        },
        {
          "output_type": "stream",
          "name": "stderr",
          "text": [
            "INFO:tensorflow:Found TPU system:\n"
          ]
        },
        {
          "output_type": "stream",
          "name": "stdout",
          "text": [
            "INFO:tensorflow:*** Num TPU Cores: 8\n"
          ]
        },
        {
          "output_type": "stream",
          "name": "stderr",
          "text": [
            "INFO:tensorflow:*** Num TPU Cores: 8\n"
          ]
        },
        {
          "output_type": "stream",
          "name": "stdout",
          "text": [
            "INFO:tensorflow:*** Num TPU Workers: 1\n"
          ]
        },
        {
          "output_type": "stream",
          "name": "stderr",
          "text": [
            "INFO:tensorflow:*** Num TPU Workers: 1\n"
          ]
        },
        {
          "output_type": "stream",
          "name": "stdout",
          "text": [
            "INFO:tensorflow:*** Num TPU Cores Per Worker: 8\n"
          ]
        },
        {
          "output_type": "stream",
          "name": "stderr",
          "text": [
            "INFO:tensorflow:*** Num TPU Cores Per Worker: 8\n"
          ]
        },
        {
          "output_type": "stream",
          "name": "stdout",
          "text": [
            "INFO:tensorflow:*** Available Device: _DeviceAttributes(/job:localhost/replica:0/task:0/device:CPU:0, CPU, 0, 0)\n"
          ]
        },
        {
          "output_type": "stream",
          "name": "stderr",
          "text": [
            "INFO:tensorflow:*** Available Device: _DeviceAttributes(/job:localhost/replica:0/task:0/device:CPU:0, CPU, 0, 0)\n"
          ]
        },
        {
          "output_type": "stream",
          "name": "stdout",
          "text": [
            "INFO:tensorflow:*** Available Device: _DeviceAttributes(/job:worker/replica:0/task:0/device:CPU:0, CPU, 0, 0)\n"
          ]
        },
        {
          "output_type": "stream",
          "name": "stderr",
          "text": [
            "INFO:tensorflow:*** Available Device: _DeviceAttributes(/job:worker/replica:0/task:0/device:CPU:0, CPU, 0, 0)\n"
          ]
        },
        {
          "output_type": "stream",
          "name": "stdout",
          "text": [
            "INFO:tensorflow:*** Available Device: _DeviceAttributes(/job:worker/replica:0/task:0/device:TPU:0, TPU, 0, 0)\n"
          ]
        },
        {
          "output_type": "stream",
          "name": "stderr",
          "text": [
            "INFO:tensorflow:*** Available Device: _DeviceAttributes(/job:worker/replica:0/task:0/device:TPU:0, TPU, 0, 0)\n"
          ]
        },
        {
          "output_type": "stream",
          "name": "stdout",
          "text": [
            "INFO:tensorflow:*** Available Device: _DeviceAttributes(/job:worker/replica:0/task:0/device:TPU:1, TPU, 0, 0)\n"
          ]
        },
        {
          "output_type": "stream",
          "name": "stderr",
          "text": [
            "INFO:tensorflow:*** Available Device: _DeviceAttributes(/job:worker/replica:0/task:0/device:TPU:1, TPU, 0, 0)\n"
          ]
        },
        {
          "output_type": "stream",
          "name": "stdout",
          "text": [
            "INFO:tensorflow:*** Available Device: _DeviceAttributes(/job:worker/replica:0/task:0/device:TPU:2, TPU, 0, 0)\n"
          ]
        },
        {
          "output_type": "stream",
          "name": "stderr",
          "text": [
            "INFO:tensorflow:*** Available Device: _DeviceAttributes(/job:worker/replica:0/task:0/device:TPU:2, TPU, 0, 0)\n"
          ]
        },
        {
          "output_type": "stream",
          "name": "stdout",
          "text": [
            "INFO:tensorflow:*** Available Device: _DeviceAttributes(/job:worker/replica:0/task:0/device:TPU:3, TPU, 0, 0)\n"
          ]
        },
        {
          "output_type": "stream",
          "name": "stderr",
          "text": [
            "INFO:tensorflow:*** Available Device: _DeviceAttributes(/job:worker/replica:0/task:0/device:TPU:3, TPU, 0, 0)\n"
          ]
        },
        {
          "output_type": "stream",
          "name": "stdout",
          "text": [
            "INFO:tensorflow:*** Available Device: _DeviceAttributes(/job:worker/replica:0/task:0/device:TPU:4, TPU, 0, 0)\n"
          ]
        },
        {
          "output_type": "stream",
          "name": "stderr",
          "text": [
            "INFO:tensorflow:*** Available Device: _DeviceAttributes(/job:worker/replica:0/task:0/device:TPU:4, TPU, 0, 0)\n"
          ]
        },
        {
          "output_type": "stream",
          "name": "stdout",
          "text": [
            "INFO:tensorflow:*** Available Device: _DeviceAttributes(/job:worker/replica:0/task:0/device:TPU:5, TPU, 0, 0)\n"
          ]
        },
        {
          "output_type": "stream",
          "name": "stderr",
          "text": [
            "INFO:tensorflow:*** Available Device: _DeviceAttributes(/job:worker/replica:0/task:0/device:TPU:5, TPU, 0, 0)\n"
          ]
        },
        {
          "output_type": "stream",
          "name": "stdout",
          "text": [
            "INFO:tensorflow:*** Available Device: _DeviceAttributes(/job:worker/replica:0/task:0/device:TPU:6, TPU, 0, 0)\n"
          ]
        },
        {
          "output_type": "stream",
          "name": "stderr",
          "text": [
            "INFO:tensorflow:*** Available Device: _DeviceAttributes(/job:worker/replica:0/task:0/device:TPU:6, TPU, 0, 0)\n"
          ]
        },
        {
          "output_type": "stream",
          "name": "stdout",
          "text": [
            "INFO:tensorflow:*** Available Device: _DeviceAttributes(/job:worker/replica:0/task:0/device:TPU:7, TPU, 0, 0)\n"
          ]
        },
        {
          "output_type": "stream",
          "name": "stderr",
          "text": [
            "INFO:tensorflow:*** Available Device: _DeviceAttributes(/job:worker/replica:0/task:0/device:TPU:7, TPU, 0, 0)\n"
          ]
        },
        {
          "output_type": "stream",
          "name": "stdout",
          "text": [
            "INFO:tensorflow:*** Available Device: _DeviceAttributes(/job:worker/replica:0/task:0/device:TPU_SYSTEM:0, TPU_SYSTEM, 0, 0)\n"
          ]
        },
        {
          "output_type": "stream",
          "name": "stderr",
          "text": [
            "INFO:tensorflow:*** Available Device: _DeviceAttributes(/job:worker/replica:0/task:0/device:TPU_SYSTEM:0, TPU_SYSTEM, 0, 0)\n"
          ]
        },
        {
          "output_type": "stream",
          "name": "stdout",
          "text": [
            "INFO:tensorflow:*** Available Device: _DeviceAttributes(/job:worker/replica:0/task:0/device:XLA_CPU:0, XLA_CPU, 0, 0)\n"
          ]
        },
        {
          "output_type": "stream",
          "name": "stderr",
          "text": [
            "INFO:tensorflow:*** Available Device: _DeviceAttributes(/job:worker/replica:0/task:0/device:XLA_CPU:0, XLA_CPU, 0, 0)\n"
          ]
        },
        {
          "output_type": "stream",
          "name": "stdout",
          "text": [
            "\n",
            "Epoch 00001: LearningRateScheduler setting learning rate to 1e-05.\n",
            "Epoch 1/2\n",
            "21/21 [==============================] - ETA: 0s - loss: 2.2514 - accuracy: 0.0595\n",
            "Epoch 00001: val_accuracy improved from -inf to 0.07812, saving model to /content/drive/MyDrive/portforio/religious_art/model/efn_b7-600/model11141537_fold2.h5\n",
            "21/21 [==============================] - 279s 2s/step - loss: 2.2514 - accuracy: 0.0595 - val_loss: 2.2070 - val_accuracy: 0.0781 - lr: 1.0000e-05\n",
            "\n",
            "Epoch 00002: LearningRateScheduler setting learning rate to 7.9e-05.\n",
            "Epoch 2/2\n",
            "21/21 [==============================] - ETA: 0s - loss: 2.1715 - accuracy: 0.1280\n",
            "Epoch 00002: val_accuracy did not improve from 0.07812\n",
            "21/21 [==============================] - 18s 860ms/step - loss: 2.1715 - accuracy: 0.1280 - val_loss: 2.1990 - val_accuracy: 0.0531 - lr: 7.9000e-05\n",
            "\n",
            "{'fold': [0, 1], 'seed': 21, 'time_jp': '11141537', 'model_path': ['/content/drive/MyDrive/portforio/religious_art/model/efn_b7-600/model11141537_fold1.h5', '/content/drive/MyDrive/portforio/religious_art/model/efn_b7-600/model11141537_fold2.h5'], 'val_accuracy': [0.09062500298023224, 0.078125], 'val_loss': [2.2098100185394287, 2.1989834308624268]}\n",
            "\n"
          ]
        }
      ]
    }
  ]
}